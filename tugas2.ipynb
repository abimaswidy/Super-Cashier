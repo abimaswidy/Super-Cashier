{
 "cells": [
  {
   "cell_type": "code",
   "execution_count": 8,
   "metadata": {},
   "outputs": [
    {
     "name": "stdout",
     "output_type": "stream",
     "text": [
      "Selamat Datang di Toko Abimas\n",
      "1. List produk\n",
      "2. Tambahkan item\n",
      "3.\n"
     ]
    },
    {
     "ename": "ValueError",
     "evalue": "invalid literal for int() with base 10: ''",
     "output_type": "error",
     "traceback": [
      "\u001b[1;31m---------------------------------------------------------------------------\u001b[0m",
      "\u001b[1;31mValueError\u001b[0m                                Traceback (most recent call last)",
      "Cell \u001b[1;32mIn[8], line 8\u001b[0m\n\u001b[0;32m      6\u001b[0m     \u001b[39mprint\u001b[39m(items)\n\u001b[0;32m      7\u001b[0m \u001b[39mfor\u001b[39;00m i \u001b[39min\u001b[39;00m \u001b[39mrange\u001b[39m(\u001b[39mlen\u001b[39m(items)):\n\u001b[1;32m----> 8\u001b[0m     inp1\u001b[39m=\u001b[39m\u001b[39mint\u001b[39;49m(\u001b[39minput\u001b[39;49m(\u001b[39m'\u001b[39;49m\u001b[39mPress 1 jika ingin melanjutkan:\u001b[39;49m\u001b[39m'\u001b[39;49m))\n\u001b[0;32m      9\u001b[0m     \u001b[39mif\u001b[39;00m inp1\u001b[39m==\u001b[39m\u001b[39m1\u001b[39m:\n\u001b[0;32m     10\u001b[0m         item\u001b[39m=\u001b[39m\u001b[39minput\u001b[39m(\u001b[39m'\u001b[39m\u001b[39mMasukkan nama item :\u001b[39m\u001b[39m'\u001b[39m)\n",
      "\u001b[1;31mValueError\u001b[0m: invalid literal for int() with base 10: ''"
     ]
    }
   ],
   "source": [
    "items = {'Apel': 10_000, 'Mangga': 5_000}\n",
    "print('Selamat Datang di Toko Abimas')\n",
    "print('1. List produk\\n2. Tambahkan item\\n3.')\n",
    "op = int(input('Masukkan opsi yang dipilih :'))\n",
    "if op == '1':\n",
    "    print(items)\n",
    "for i in range(len(items)):\n",
    "    inp1=int(input('Press 1 jika ingin melanjutkan:'))\n",
    "    if inp1==1:\n",
    "        item=input('Masukkan nama item :')\n",
    "        qty=int(input('Masukkan jumlah item :'))\n",
    "        if item in item.keys():\n",
    "            price=qty*(items[item])\n",
    "print(price)"
   ]
  }
 ],
 "metadata": {
  "kernelspec": {
   "display_name": "base",
   "language": "python",
   "name": "python3"
  },
  "language_info": {
   "codemirror_mode": {
    "name": "ipython",
    "version": 3
   },
   "file_extension": ".py",
   "mimetype": "text/x-python",
   "name": "python",
   "nbconvert_exporter": "python",
   "pygments_lexer": "ipython3",
   "version": "3.10.9"
  },
  "orig_nbformat": 4
 },
 "nbformat": 4,
 "nbformat_minor": 2
}
