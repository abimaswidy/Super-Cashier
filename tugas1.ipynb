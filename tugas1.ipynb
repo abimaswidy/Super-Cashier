{
 "cells": [
  {
   "cell_type": "code",
   "execution_count": 18,
   "metadata": {},
   "outputs": [
    {
     "name": "stdout",
     "output_type": "stream",
     "text": [
      "Nama :  apel\n",
      "jumlah:  3\n",
      "Harga:  3000\n",
      "total :  9000\n",
      "\n"
     ]
    }
   ],
   "source": [
    "class Produk():\n",
    "    def __init__(self):\n",
    "        self.nama_item = input('masukan nama item:')\n",
    "        self.jumlah_item = int(input('masukan jumlah item:'))\n",
    "        self.harga_item = int(input('masukan harga item:'))\n",
    "        self.total_harga = self.jumlah_item * self.harga_item\n",
    "\n",
    "        \n",
    "    def detail_produk(self):\n",
    "        print(\"Nama : \", self.nama_item)\n",
    "        print(\"jumlah: \", self.jumlah_item)\n",
    "        print(\"Harga: \", self.harga_item)\n",
    "        print(\"total : \",self.total_harga)\n",
    "        print()\n",
    "\n",
    "# membuat simulasi pembelian pertama\n",
    "produk1 = Produk()\n",
    "produk1.detail_produk()\n"
   ]
  },
  {
   "cell_type": "code",
   "execution_count": null,
   "metadata": {},
   "outputs": [],
   "source": []
  }
 ],
 "metadata": {
  "kernelspec": {
   "display_name": "base",
   "language": "python",
   "name": "python3"
  },
  "language_info": {
   "codemirror_mode": {
    "name": "ipython",
    "version": 3
   },
   "file_extension": ".py",
   "mimetype": "text/x-python",
   "name": "python",
   "nbconvert_exporter": "python",
   "pygments_lexer": "ipython3",
   "version": "3.10.9"
  },
  "orig_nbformat": 4
 },
 "nbformat": 4,
 "nbformat_minor": 2
}
